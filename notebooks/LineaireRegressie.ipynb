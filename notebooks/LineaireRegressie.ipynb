{
  "cells": [
    {
      "cell_type": "markdown",
      "id": "9ef5ba99",
      "metadata": {
        "id": "9ef5ba99"
      },
      "source": [
        "# Lineaire Regressie\n",
        "\n",
        "Deze notebook toont de essentie van **gradient descent** a.d.h.v. **enkelvoudige lineaire regressie**."
      ]
    },
    {
      "cell_type": "code",
      "execution_count": null,
      "id": "8bfa152a",
      "metadata": {
        "id": "8bfa152a"
      },
      "outputs": [],
      "source": [
        "# Importeer de bibliotheken die we gebruiken.\n",
        "%matplotlib inline\n",
        "\n",
        "import numpy as np\n",
        "import matplotlib.pyplot as plt"
      ]
    },
    {
      "cell_type": "code",
      "execution_count": null,
      "id": "a940a09e",
      "metadata": {
        "id": "a940a09e"
      },
      "outputs": [],
      "source": [
        "def genereer_data(m=50, low=-5, high=5, sigma=0.5, seed=42):\n",
        "    \"\"\" Genereer m datapunten die ongeveer een lineair verband hebben\n",
        "        met een willekeurige richtingscoëfficiënt en bias.\n",
        "\n",
        "        m    : aantal datapunten\n",
        "        low  : laagste x-waarde\n",
        "        high : hoogste x-waarde\n",
        "        sigma: standaardafwijking van de Gaussiaanse ruis\n",
        "        seed : bepaalt de gegenereerde random waarden\n",
        "\n",
        "        returns: x, y, a, b met x en y vectoren met n elementen terwijl a en b \n",
        "                 de \"geheime\" richtingscoëfficiënt en bias zijn\n",
        "    \"\"\"\n",
        "    rng = np.random.default_rng(seed=seed)\n",
        "    a = rng.uniform(-2, 2, size=1)[0]\n",
        "    b = rng.uniform(2, 5, size=1)[0]\n",
        "    \n",
        "    x = np.linspace(low,high,50)\n",
        "    y = a*x + b + rng.normal(loc=0, scale=sigma, size=m)\n",
        "    \n",
        "    return x, y, a, b\n",
        "\n",
        "def plot_data(x, y, a=None, b=None):   \n",
        "    \"\"\" Plot data, al dan niet met een rechte erbij.\n",
        "    \"\"\"\n",
        "    fig, ax = plt.subplots()\n",
        "    ax.scatter(x, y, alpha=0.5)\n",
        "    ax.set_xticks([])\n",
        "    ax.set_yticks([])    \n",
        "    if a is not None:\n",
        "        xs = np.linspace(min(x), max(x), 100)\n",
        "        ys = a * xs + b\n",
        "        ax.plot(xs, ys, color='red')"
      ]
    },
    {
      "cell_type": "markdown",
      "id": "08893b4c",
      "metadata": {
        "id": "08893b4c"
      },
      "source": [
        "We genereren een aantal datapunten $(x_i, y_i)$ die ongeveer een lineair verband hebben, \n",
        "t.t.z.\n",
        "$$\n",
        "y \\approx a \\times x + b\n",
        "$$\n",
        "voor een onbekende $a$ en $b$ en we plotten deze data. Om het moeilijker te maken om de $a$ en $b$ met het blote oog in te schatten verwijderen we de schaal op de $X$- en $Y$-as."
      ]
    },
    {
      "cell_type": "code",
      "execution_count": null,
      "id": "31f20f69",
      "metadata": {
        "id": "31f20f69"
      },
      "outputs": [],
      "source": [
        "x, y, a_geheim, b_geheim = genereer_data(sigma=1,seed=42)\n",
        "plot_data(x, y);"
      ]
    },
    {
      "cell_type": "markdown",
      "id": "rgQ0a3V0b1og",
      "metadata": {
        "id": "rgQ0a3V0b1og"
      },
      "source": [
        "Plot de horizontale rechte \n",
        "$$\n",
        "y = 0\n",
        "$$\n",
        "over de datapunten."
      ]
    },
    {
      "cell_type": "code",
      "execution_count": null,
      "id": "3e001b60",
      "metadata": {
        "id": "3e001b60"
      },
      "outputs": [],
      "source": [
        "plot_data(x, y, a=0, b=0)"
      ]
    },
    {
      "cell_type": "markdown",
      "id": "7033d3fb",
      "metadata": {
        "id": "7033d3fb"
      },
      "source": [
        "## Opdracht 1: Experimenteer met $a$ en $b$\n",
        "\n",
        "Experimenteer met verschillende waarden voor $a$ en $b$ om een \"goed passende\" rechte te vinden.\n",
        "\n",
        "Probeer minstens 3 verschillende combinaties van $a$ en $b$ en noteer wat volgens jou \n",
        "de beste en slechtste combinatie is."
      ]
    },
    {
      "cell_type": "code",
      "execution_count": null,
      "id": "d2de9b5f",
      "metadata": {
        "id": "d2de9b5f"
      },
      "outputs": [],
      "source": [
        "plot_data(x, y)"
      ]
    },
    {
      "cell_type": "markdown",
      "id": "b9530c43",
      "metadata": {
        "id": "b9530c43"
      },
      "source": [
        "Mijn drie combinaties zijn:\n",
        "\n",
        "- \n",
        "-\n",
        "-"
      ]
    },
    {
      "cell_type": "markdown",
      "id": "b1db0f8c",
      "metadata": {
        "id": "b1db0f8c"
      },
      "source": [
        "## Opdracht 2: Bereken de kost voor deze verschillende $a$ en $b$ waarden\n",
        "\n",
        "Met het blote oog kunnen we misschien wel ongeveer\n",
        "inschatten hoe goed een rechte past bij de gegeven punten \n",
        "maar het is niet altijd zo gemakkelijk om verschillende \n",
        "rechten met elkaar te vergelijken.\n",
        "\n",
        "Daarom definiëren we een wiskundige formule die in een getal uitdrukt hoe \"goed\" de rechte bij de gegeven datapunten past.\n",
        "Hoe kleiner dit getal het beter de rechte bij de gegeven datapunten past.\n",
        "\n",
        "We stellen\n",
        "$$\n",
        "\\hat y_i = a \\times x_i + b\n",
        "$$\n",
        "Dus bv. als $a = 2$ en $b=-1$, en $x_i = 3$, dan is \n",
        "$$\n",
        "\\hat y_i = 2 \\times 3 - 1 = 5.\n",
        "$$\n",
        "\n",
        "Veronderstel nu dat het juiste antwoord $y_i$ gelijk is aan 7, dan zeggen we dat de **kost** voor\n",
        "dit voorbeeld gelijk is aan \n",
        "$$\n",
        "(\\hat y_i - y_i)^2 = (5 - 7)^2 = (-2)^2 = 4. \n",
        "$$\n",
        "\n"
      ]
    },
    {
      "cell_type": "code",
      "execution_count": null,
      "id": "bde07dcc",
      "metadata": {
        "id": "bde07dcc"
      },
      "outputs": [],
      "source": [
        "def figuur_kost_illustratie():\n",
        "    \"\"\" Creëer een figuur om de kost voor een enkel datapunt te illustreren.\n",
        "    \"\"\"\n",
        "    fig, ax = plt.subplots()\n",
        "    x = np.linspace(0,2,10)\n",
        "    rng = np.random.default_rng(seed=42)\n",
        "    y = 2*x + 1 + rng.normal(loc=0, scale=1.5, size=10)\n",
        "    ax.scatter(x, y, alpha=0.5)      \n",
        "    xs = np.linspace(min(x), max(x), 100)\n",
        "    ys = 2 * xs + 1\n",
        "    ax.plot(xs, ys, color='red')\n",
        "    \n",
        "    xi = x[5]\n",
        "    yi = 2*xi+1\n",
        "    ax.plot(xi, yi, color='black', marker=\"+\")\n",
        "    ax.vlines([xi], ymin=y[5], ymax=yi, color='black')\n",
        "    ax.text(xi+0.05, (yi+y[5])/2, \"(vkw) kost\", size=\"x-large\")\n",
        "    ax.text(xi+0.05, y[5], \"$y_i$\", size=\"x-large\" )\n",
        "    ax.text(xi, yi+0.25, \"$\\haty_i$\", size=\"x-large\")\n",
        "        \n",
        "figuur_kost_illustratie();"
      ]
    },
    {
      "cell_type": "markdown",
      "id": "b2178781",
      "metadata": {
        "id": "b2178781"
      },
      "source": [
        "De volledige kost is dan de som (of eigenlijk het gemiddelde) van de kosten voor alle punten.\n",
        "$$\n",
        "\\text{kost}(a,b) = \\frac{1}{m}\\sum_{i=1}^{m} (\\hat y_i - y_i)^2 = \\frac{1}{m}\\sum_{i=1}^{m} (a\\times x_i + b - y_i)^2\n",
        "$$\n",
        "\n",
        "De kost hangt dus af van $a$ en $b$: als we $a$ en $b$ variëren, dan krijgen we andere waarden voor de kost. \n",
        "De officiële naam voor deze kost is de **Mean Squared Error**, dikwijls afgekort tot MSE."
      ]
    },
    {
      "cell_type": "code",
      "execution_count": null,
      "id": "81115096",
      "metadata": {
        "id": "81115096"
      },
      "outputs": [],
      "source": [
        "def kost(x, y, a, b):\n",
        "    \"\"\" Bereken de kost voor de gegeven datapunten x en y, en de coëfficiënten \n",
        "        a en b. De assumptie is straks dat x en y vast zijn en dat a en b \n",
        "        variëren.\n",
        "    \"\"\"\n",
        "    yhat = a*x + b             # Bereken de voorspelling\n",
        "    residuals = (yhat-y)**2    # Bereken de kwadraten van de verschillen\n",
        "    return np.mean(residuals)  # Bereken het gemiddelde"
      ]
    },
    {
      "cell_type": "markdown",
      "id": "HAHQVU5_enQK",
      "metadata": {
        "id": "HAHQVU5_enQK"
      },
      "source": [
        "Bij wijze van voorbeeld berekenen we de kost voor $a=0$ en $b=0$. \n",
        "\n",
        "Merk op: op zijn eentje betekent dit getal niet zo veel, je moet het vooral gaan vergelijken met de kost voor andere combinaties van $a$ en $b$."
      ]
    },
    {
      "cell_type": "code",
      "execution_count": null,
      "id": "978b86d4",
      "metadata": {
        "id": "978b86d4"
      },
      "outputs": [],
      "source": [
        "kost(x, y, a=0,b=0)"
      ]
    },
    {
      "cell_type": "markdown",
      "id": "6980a653",
      "metadata": {
        "id": "6980a653"
      },
      "source": [
        "Bereken de kost voor de drie combinaties van $a$ en $b$ die je hierboven hebt opgeschreven. \n",
        "Komt de kost overeen met je intuïtie van wat de beste en slechtste combinatie was?"
      ]
    },
    {
      "cell_type": "code",
      "execution_count": null,
      "id": "zmoA8XNVe31w",
      "metadata": {
        "id": "zmoA8XNVe31w"
      },
      "outputs": [],
      "source": []
    },
    {
      "cell_type": "markdown",
      "id": "mpIoNhDLfIGQ",
      "metadata": {
        "id": "mpIoNhDLfIGQ"
      },
      "source": [
        "De drie berekende kosten waren:\n",
        "\n",
        "- \n",
        "- \n",
        "- "
      ]
    },
    {
      "cell_type": "markdown",
      "id": "690d25e4",
      "metadata": {
        "id": "690d25e4"
      },
      "source": [
        "# Opdracht 3: De beste combinatie van $a$ en $b$ zoeken m.b.v. de gradiënt\n",
        "\n",
        "Het doel is nu om de beste combinatie van $a$ en $b$ te vinden. Er zijn twee verschillende manieren om dit te doen:\n",
        "\n",
        "1. We gebruiken wiskundige analyse en bepalen de positie van het minimum m.b.v. *afgeleide functies* die we analytisch bepalen en gelijk stellen aan nul. In het geval van lineaire regressie is het niet zo moeilijk om op deze manier een gesloten formule te vinden voor de optimale combinatie van $a$ en $b$, maar eens men meer complexe problemen probeert aan te pakken met machinaal leren dan is het dikwijls onmogelijk om deze aanpak te gebruiken.  \n",
        "2. We werken *iteratief*: d.w.z. dat we starten met random waarden van $a$ en $b$. Vervolgens bepalen we wat **lokaal** de richting is waarin de kostfunctie het sterkst daalt, en dan nemen we een kleine stap in die richting. Dan hebben we nieuwe waarden voor $a$ en $b$ (die hopelijk al iets beter zijn), en dan herhalen we het proces: we zoeken de richting waarin, lokaal gezien, de kost het sterkst daalt en we nemen \n",
        "opnieuw een klein stapje in die richting. Dit herhalen we een groot aantal keer, tot we zien dat de kost ongeveer gelijk blijft."
      ]
    },
    {
      "cell_type": "markdown",
      "id": "OlMSUp0hiq2f",
      "metadata": {
        "id": "OlMSUp0hiq2f"
      },
      "source": [
        "We maken het probleem nog iets eenvoudiger en gaan er nu van uit dat $b = 0$, \n",
        "d.w.z. dat de rechte die we zoeken steeds door de oorsprong gaat.\n",
        "\n",
        "Daarom maken we een **nieuwe** vector `y_zonder_b` waarvan we weten dat \n",
        "een rechte door de oorsprong goed zal passen. Dat doen we door van \n",
        "de oorspronkelijke vector `y` de geheime waarde `b` af te trekken.\n",
        "\n",
        "Vervolgens plotten we de kost voor verschillende waarden van `a`."
      ]
    },
    {
      "cell_type": "code",
      "execution_count": null,
      "id": "MzmaJhmbjdjR",
      "metadata": {
        "id": "MzmaJhmbjdjR"
      },
      "outputs": [],
      "source": [
        "y_zonder_b = y - b_geheim\n",
        "\n",
        "def plot_kost_zonder_b(x, y):\n",
        "  fig, ax = plt.subplots()\n",
        "  a_s = np.linspace(-6, 6, 200)\n",
        "  kosten = [kost(x, y, a, b=0) for a in a_s]\n",
        "  ax.plot(a_s, kosten)\n",
        "  ax.set_xlabel(\"a\")\n",
        "  ax.set_ylabel(\"kost\")\n",
        "\n",
        "\n",
        "plot_kost_zonder_b(x, y_zonder_b)"
      ]
    },
    {
      "cell_type": "markdown",
      "id": "jhq-F5zQlR4a",
      "metadata": {
        "id": "jhq-F5zQlR4a"
      },
      "source": [
        "Veronderstel dat we nu starten met $a=-4$. Dan zien we op de figuur dat we $a$ **groter** moeten maken om de kost te laten dalen, want de grafiek is dalend \n",
        "voor $a=-4$.  Als we daarentegen zouden starten in $a=4$ dan moeten we $a$\n",
        "kleiner maken om de kost de laten dalen want in $a=4$ is de kostfunctie stijgend.\n",
        "\n",
        "Hoe kunnen we nu weten of de kostfunctie stijgt of daalt in een bepaald punt zonder naar de figuur te kijken?  Dit kan a.d.h.v. de **afgeleide** in dat punt. We zullen echter de afgeleide functie niet analytisch berekenen maar we zullen de waarde ervan eenvoudigweg benaderen.\n",
        "\n",
        "$$\n",
        "\\text{afgeleide kost in}(a=a_0) \\approx \\frac{\\text{kost}(a_0 + h) - \\text{kost}(a_0)} {h} \\qquad \\text{voor een kleine waarde van } h \n",
        "$$\n",
        "\n",
        "Laat ons deze berekening eens maken voor de kost in $a=4$."
      ]
    },
    {
      "cell_type": "code",
      "execution_count": null,
      "id": "8O_ErkHimvNQ",
      "metadata": {
        "id": "8O_ErkHimvNQ"
      },
      "outputs": [],
      "source": [
        "def afgeleide_kost(x, y, a, h):\n",
        "  kost_a_plus_h = kost(x, y, a+h, b=0)\n",
        "  kost_a = kost(x,y,a,b=0)\n",
        "  return (kost_a_plus_h - kost_a) / h\n",
        "\n",
        "for h in [1/10, 1/100, 1/1000, 1/10_000, 1/100_000, 1/1_000_000,  1/10_000_000]:\n",
        "  print(f\"Voor h={h:.7f} is de benadering voor de afgeleide {afgeleide_kost(x, y_zonder_b, a=4, h=h)}\")"
      ]
    },
    {
      "cell_type": "markdown",
      "id": "z-wZcNoqobfQ",
      "metadata": {
        "id": "z-wZcNoqobfQ"
      },
      "source": [
        "Opdracht: bepaal de waarde van de afgeleide van de kost (tot op drie cijfers na de komma) in $a=-4$ en voor $a=1$.\n",
        "\n",
        "- Voor $a=-4$ is de waarde van de afgeleide kost:\n",
        "- Voor $a=1$ is de waarde van de afgeleide kost:"
      ]
    },
    {
      "cell_type": "code",
      "execution_count": null,
      "id": "XX1FK4LLoyI_",
      "metadata": {
        "id": "XX1FK4LLoyI_"
      },
      "outputs": [],
      "source": []
    },
    {
      "cell_type": "markdown",
      "id": "S-QjKiEIpARw",
      "metadata": {
        "id": "S-QjKiEIpARw"
      },
      "source": [
        "We keren terug naar het originele probleem waarbij we zowel $a$ als $b$ willen bepalen. In dit geval is de kost een functie van 2 variabelen, wat betekent\n",
        "dat de grafiek van de kost nu een drie-dimensionale figuur is, waarbij \n",
        "de waarden van $a$ en $b$ variëren in een vlak en waarbij de waarde van \n",
        "kostfunctie er bovenuit steekt in de derde dimensie. Dit is uiteraard moeilijker om te plotten maar Python beschikt over plotting-bibliotheken die dit mogelijk maken en waarbij je ook met de grafiek kan interageren.\n",
        "\n",
        "De volgende code plot de waarde van kostfunctie als functie van $a$ en $b$."
      ]
    },
    {
      "cell_type": "code",
      "execution_count": null,
      "id": "930ab2d8",
      "metadata": {
        "id": "930ab2d8"
      },
      "outputs": [],
      "source": [
        "def plot_kost(x, y):\n",
        "    \"\"\" Plot de waarde van de kostfunctie als functie van a en b\n",
        "    \"\"\"\n",
        "    start, end, step = -5, 5, 0.1\n",
        "    ms, bs = np.arange(start, end, step), np.arange(2*start, 2*end, step*2)\n",
        "    \n",
        "    params_list = []\n",
        "    for b in bs:\n",
        "        for a in ms:\n",
        "            params_list.append((b,a))\n",
        "                \n",
        "    kosten = []\n",
        "    for (b,a) in params_list:        \n",
        "        kosten.append(kost(x, y, a, b))\n",
        "        \n",
        "    \n",
        "    axis_length = len(ms)\n",
        "    kosten_matrix = np.array(kosten).reshape(axis_length, axis_length)\n",
        "    \n",
        "    import plotly.graph_objects as go\n",
        "\n",
        "    # plot oppervlak\n",
        "    fig = go.Figure(data=go.Surface(z=kosten_matrix,\n",
        "                                x=ms,\n",
        "                                y=bs))\n",
        "    \n",
        "    fig.update_traces(contours_z=dict(\n",
        "                    show=True, usecolormap=True,\n",
        "                    highlightcolor=\"limegreen\", project_z=True))\n",
        "    \n",
        "\n",
        "    fig.update_layout(title='Kost Oppervlak',\n",
        "                  scene=dict(\n",
        "                    xaxis_title='a',\n",
        "                    yaxis_title='b',\n",
        "                    zaxis_title='Kost'),\n",
        "                  width=700, height=700)\n",
        "\n",
        "    fig.show()\n",
        "    \n",
        "plot_kost(x, y)        "
      ]
    },
    {
      "cell_type": "markdown",
      "id": "lzjwKIjhqVCC",
      "metadata": {
        "id": "lzjwKIjhqVCC"
      },
      "source": [
        "We kunnen ook enkel de contouren plotten. Dit is een beetje zoals de hoogtelijnen op een landkaarten. De lijnen zijn een soort van hoogtelijnen die punten met gelijke hoogte met elkaar verbinden."
      ]
    },
    {
      "cell_type": "code",
      "execution_count": null,
      "id": "qnH8j6e8OCeu",
      "metadata": {
        "id": "qnH8j6e8OCeu"
      },
      "outputs": [],
      "source": [
        "def plot_contour_kost(x, y):\n",
        "    \"\"\" Plot een contour plot van de kost\n",
        "    \"\"\"\n",
        "    start, end, step = -5, 5, 0.1\n",
        "    ms, bs = np.arange(start, end, step), np.arange(2*start, 2*end, step*2)\n",
        "    \n",
        "    params_list = []\n",
        "    for b in bs:\n",
        "        for a in ms:\n",
        "            params_list.append((b,a))\n",
        "                \n",
        "    kosten = []\n",
        "    for (b,a) in params_list:        \n",
        "        kosten.append(kost(x, y, a, b))\n",
        "        \n",
        "    \n",
        "    axis_length = len(ms)\n",
        "    kosten_matrix = np.array(kosten).reshape(axis_length, axis_length)\n",
        "    \n",
        "    import plotly.graph_objects as go\n",
        "\n",
        "    fig = go.Figure(data = go.Contour(z=kosten_matrix, x=bs, y=ms))\n",
        "\n",
        "    fig.show()\n",
        "\n",
        "plot_contour_kost(x, y)"
      ]
    },
    {
      "cell_type": "markdown",
      "id": "BFPHBTPzPw4e",
      "metadata": {
        "id": "BFPHBTPzPw4e"
      },
      "source": [
        "Uit deze figuren zien we duidelijk dat als we $a$ en $b$ veranderen dat dan ook de kost verandert. \n",
        "\n",
        "We kunnen nu bekijken wat er gebeurt met de kost als we $a$ een heel klein\n",
        "beetje veranderen (en $b$ vasthouden), en omgekeerd, wat er gebeurt met de \n",
        "kost als we $b$ een heel klein beetje veranderen (en $a$ vasthouden).\n",
        "Deze twee getallen samen noemen we de **gradiënt** van de kost in een bepaald punt.  De gradiënt is m.a.w. een veralgemening van het begrip afgeleide \n",
        "in één dimensie naar een willekeurig aantal dimensies. In ons geval is \n",
        "het aantal dimensies gelijk aan twee omdat we twee parameters willen schatten, nl. $a$ en $b$."
      ]
    },
    {
      "cell_type": "code",
      "execution_count": null,
      "id": "z1TfSRi6QgcO",
      "metadata": {
        "id": "z1TfSRi6QgcO"
      },
      "outputs": [],
      "source": [
        "def gradient_kost(x, y, a, b, h=10**-6):\n",
        "  \"\"\" Bereken de gradiënt van de kost via een eenvoudige benaderingsformule.\n",
        "      x : de x-waarden\n",
        "      y : de correcte y-waarden\n",
        "      a : de richtingscoëfficiënt\n",
        "      b : de bias\n",
        "      h : de waarde van h in de limietformule voor de afgeleide.\n",
        "  \"\"\"\n",
        "  kost_origineel = kost(x, y, a, b)\n",
        "\n",
        "  kost_a_plus_h  = kost(x, y, a + h, b)\n",
        "  kost_b_plus_h   = kost(x, y, a, b + h)\n",
        "\n",
        "  kost_richting_a = (kost_a_plus_h - kost_origineel) / h\n",
        "  kost_richting_b = (kost_b_plus_h - kost_origineel) / h\n",
        "\n",
        "  return kost_richting_a, kost_richting_b"
      ]
    },
    {
      "cell_type": "code",
      "execution_count": null,
      "id": "wBBtS1GwRJ3N",
      "metadata": {
        "id": "wBBtS1GwRJ3N"
      },
      "outputs": [],
      "source": [
        "a, b = 0, 0 # We starten in de oorsprong\n",
        "da, db = gradient_kost(x, y, a, b)\n",
        "print(f\"a={a:3.3f}, b={b:3.3f}, da={da:3.3f}, db={db:3.3f}, kost={kost(x, y, a, b):3.3f}\")\n",
        "# da en db zijn negatief, dus als we a en b groter maken dan wordt de kost kleiner\n",
        "# we nemen dus een kleine stap in de richting tegengesteld aan de gradient\n",
        "alpha = 0.1\n",
        "a, b = a - alpha  * da, b - alpha * db\n",
        "da, db = gradient_kost(x, y, a, b)\n",
        "print(f\"a={a:3.3f}, b={b:3.3f}, da={da:3.3f}, db={db:3.3f}, kost={kost(x, y, a, b):3.3f}\")\n",
        "# de kost is kleiner geworden\n",
        "# da is positief, dus moeten we a een beetje kleiner maken\n",
        "# db is negatief, dus b mag nog een beetje groter\n",
        "a, b = a - alpha  * da, b - alpha * db\n",
        "da, db = gradient_kost(x, y, a, b)\n",
        "print(f\"a={a:3.3f}, b={b:3.3f}, da={da:3.3f}, db={db:3.3f}, kost={kost(x, y, a, b):3.3f}\")"
      ]
    },
    {
      "cell_type": "markdown",
      "id": "sNcOWuupS5xF",
      "metadata": {
        "id": "sNcOWuupS5xF"
      },
      "source": [
        "Doe nog twee stappen van dit algoritme. Wat is de waarde van $a$ en $b$ ondertussen? En de kost?"
      ]
    },
    {
      "cell_type": "markdown",
      "id": "DmRKdDgHT6ZY",
      "metadata": {
        "id": "DmRKdDgHT6ZY"
      },
      "source": [
        "We kunnen dit proces in een eenvoudige lus schrijven.\n",
        "\n",
        "```\n",
        "herhaal lang genoeg\n",
        "  da, db = bepaal gradiënt in huidig punt\n",
        "  a = a - stap_grootte * da\n",
        "  b = b - stap_grootte * da\n",
        "```\n",
        "\n",
        "Dit kan ook eenvoudig vertaald worden naar Python zoals we hieronder tonen."
      ]
    },
    {
      "cell_type": "code",
      "execution_count": null,
      "id": "OuieYH6bRhYN",
      "metadata": {
        "id": "OuieYH6bRhYN"
      },
      "outputs": [],
      "source": [
        "def gradient_descent(x, y, alpha=0.1, aantal_stappen=50):\n",
        "  a, b = 0, 0\n",
        "  for _ in range(aantal_stappen):\n",
        "    da, db = gradient_kost(x, y, a, b)\n",
        "    a, b = a - alpha  * da, b - alpha * db\n",
        "    print(f\"a={a:3.3f}, b={b:3.3f}, da={da:3.3f}, db={db:3.3f}, kost={kost(x, y, a, b):3.3f}\")\n",
        "\n",
        "  return a, b"
      ]
    },
    {
      "cell_type": "code",
      "execution_count": null,
      "id": "j9nBbeIxTcEt",
      "metadata": {
        "id": "j9nBbeIxTcEt"
      },
      "outputs": [],
      "source": [
        "a_geschat, b_geschat = gradient_descent(x,y, aantal_stappen=50, alpha=0.1)"
      ]
    },
    {
      "cell_type": "markdown",
      "id": "n7laYspvURzb",
      "metadata": {
        "id": "n7laYspvURzb"
      },
      "source": [
        "We plotten nu de data en de gevonden rechte."
      ]
    },
    {
      "cell_type": "code",
      "execution_count": null,
      "id": "hIHHHrzZUQ17",
      "metadata": {
        "id": "hIHHHrzZUQ17"
      },
      "outputs": [],
      "source": [
        "plot_data(x,y, a_geschat,b_geschat)"
      ]
    },
    {
      "cell_type": "markdown",
      "id": "d3lKaQFIusjR",
      "metadata": {
        "id": "d3lKaQFIusjR"
      },
      "source": [
        "Laat de methode `gradient_descent` opnieuw lopen maar gebruik\n",
        "\n",
        "- `alpha = 0.0001` als stapgrootte. Wat merk je?\n",
        "- `alpha = 0.2` als stapgrootte. Wat merk je?\n",
        "\n",
        "**De keuze van de stapgrootte is dus van cruciaal belang bij gradient descent!**"
      ]
    },
    {
      "cell_type": "markdown",
      "id": "6J7lrFwMvpo6",
      "metadata": {
        "id": "6J7lrFwMvpo6"
      },
      "source": [
        "Tot slot vergelijken we nog eens de gevonden (goede) waarden voor $a$ en $b$\n",
        "met de geheime waarden die we bij de start van de notebook hebben gegenereerd."
      ]
    },
    {
      "cell_type": "code",
      "execution_count": null,
      "id": "q4Vbjsfsv30n",
      "metadata": {
        "id": "q4Vbjsfsv30n"
      },
      "outputs": [],
      "source": [
        "print(f\"De geschatte waarde van a: {a_geschat:1.5f}, de geheime waarde van a: {a_geheim:1.5f}\")\n",
        "print(f\"De geschatte waarde van b: {b_geschat:1.5f}, de geheime waarde van b: {b_geheim:1.5f}\")"
      ]
    },
    {
      "cell_type": "markdown",
      "id": "kDEtXSk4WLgF",
      "metadata": {
        "id": "kDEtXSk4WLgF"
      },
      "source": [
        "## Opdracht 4: Genereer nieuwe data en pas gradient descent toe"
      ]
    }
  ],
  "metadata": {
    "colab": {
      "provenance": []
    },
    "kernelspec": {
      "display_name": "Python 3",
      "language": "python",
      "name": "python3"
    },
    "language_info": {
      "codemirror_mode": {
        "name": "ipython",
        "version": 3
      },
      "file_extension": ".py",
      "mimetype": "text/x-python",
      "name": "python",
      "nbconvert_exporter": "python",
      "pygments_lexer": "ipython3",
      "version": "3.8.8"
    }
  },
  "nbformat": 4,
  "nbformat_minor": 5
}
